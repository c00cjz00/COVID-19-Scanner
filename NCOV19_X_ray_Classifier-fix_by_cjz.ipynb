{
 "cells": [
  {
   "cell_type": "markdown",
   "metadata": {},
   "source": [
    "## Install package in TWCC (tensorflow-20.02-tf1-py3:latest)"
   ]
  },
  {
   "cell_type": "code",
   "execution_count": null,
   "metadata": {},
   "outputs": [],
   "source": [
    "!sudo -i pip install --upgrade pip\n",
    "!sudo -i pip install fastai\n",
    "!sudo -i python -m pip install --upgrade nbformat\n",
    "!sudo pip show fastai\n",
    "!python -V"
   ]
  },
  {
   "cell_type": "markdown",
   "metadata": {
    "colab_type": "text",
    "id": "view-in-github"
   },
   "source": [
    "<a href=\"https://colab.research.google.com/github/ajsanjoaquin/COVID-19-Scanner/blob/master/NCOV19_X_ray_Classifier.ipynb\" target=\"_parent\"><img src=\"https://colab.research.google.com/assets/colab-badge.svg\" alt=\"Open In Colab\"/></a>"
   ]
  },
  {
   "cell_type": "markdown",
   "metadata": {
    "colab_type": "text",
    "id": "3e7geXMFyndA"
   },
   "source": [
    "#Coronavirus 2019 (COVID-19) Classifer using Posteroanterior views (PA) of Chest Radiograph Images (CXR)\n",
    "Accompanying information [here](https://towardsdatascience.com/using-deep-learning-to-detect-ncov-19-from-x-ray-images-1a89701d1acd).\n",
    "\n",
    "NOTICE: This notebook is provided as-is with no guarantee of accurate diagnosis. The model was trained on heavily skewed data and is not suitable for deployment. It is currently meant to be a proof of concept for now. All images used were publicly accessible and usable at the time of training."
   ]
  },
  {
   "cell_type": "code",
   "execution_count": null,
   "metadata": {
    "colab": {
     "base_uri": "https://localhost:8080/",
     "height": 139
    },
    "colab_type": "code",
    "id": "yZMVckwEAN3c",
    "outputId": "9e9914b6-22e9-405c-e7c0-c8d1ff5c235a"
   },
   "outputs": [],
   "source": [
    "!git clone https://github.com/ieee8023/covid-chestxray-dataset.git"
   ]
  },
  {
   "cell_type": "code",
   "execution_count": null,
   "metadata": {
    "colab": {},
    "colab_type": "code",
    "id": "NLm4gvRD_9Te"
   },
   "outputs": [],
   "source": [
    "import pandas as pd\n",
    "import numpy as np\n",
    "import os, shutil\n",
    "from fastai.vision import *\n",
    "from fastai.widgets import ClassConfusion"
   ]
  },
  {
   "cell_type": "markdown",
   "metadata": {
    "colab_type": "text",
    "id": "4Nd3AHX5AULm"
   },
   "source": [
    "#Preprocessing\n",
    "##Extracting Images "
   ]
  },
  {
   "cell_type": "code",
   "execution_count": null,
   "metadata": {
    "colab": {},
    "colab_type": "code",
    "id": "9n9PzSeuCIRc"
   },
   "outputs": [],
   "source": [
    "metadata_path='covid-chestxray-dataset/metadata.csv'\n",
    "df=pd.read_csv(metadata_path)\n",
    "\n",
    "#types we're interested in\n",
    "covid_patients=df['finding']=='COVID-19'\n",
    "CT=df['view']=='CT'\n",
    "PA=df['view']=='PA'\n",
    "\n",
    "# %%\n",
    "df[covid_patients & CT].shape\n",
    "df[covid_patients & PA].shape\n",
    "# %%\n",
    "PA_covid=df[covid_patients & PA]\n",
    "Others=df[~covid_patients & PA]\n",
    "covid_files=[files for files in PA_covid['filename']]\n",
    "other_files=[files for files in Others['filename']]"
   ]
  },
  {
   "cell_type": "code",
   "execution_count": null,
   "metadata": {
    "colab": {},
    "colab_type": "code",
    "id": "H7BW9lAi0QDZ"
   },
   "outputs": [],
   "source": [
    "#our test folder. manually included files via upload.\n",
    "test_files=[file for file in sorted(os.listdir('test'))]\n",
    "df_test=pd.DataFrame(test_files, columns=['filename'])"
   ]
  },
  {
   "cell_type": "code",
   "execution_count": null,
   "metadata": {
    "colab": {},
    "colab_type": "code",
    "id": "KSShznGMAd7M"
   },
   "outputs": [],
   "source": [
    "#create data folder and positive & negative cases folder, and test folder\n",
    "destpath = 'data/covid','data/other', 'data/test'\n",
    "srcpath = 'covid-chestxray-dataset/images'\n",
    "\n",
    "for root, dirs, files in os.walk(srcpath):\n",
    "  if not os.path.isdir(destpath[0]):\n",
    "    os.makedirs(destpath[0])\n",
    "  if not os.path.isdir(destpath[1]):\n",
    "    os.makedirs(destpath[1])\n",
    "  if not os.path.isdir(destpath[2]):\n",
    "    os.makedirs(destpath[2])\n",
    "    \n",
    "  for file in files:\n",
    "    if file in covid_files:\n",
    "      shutil.copy(os.path.join(root, file),destpath[0])\n",
    "    if file in other_files:\n",
    "      shutil.copy(os.path.join(root,file),destpath[1])\n",
    "    if file in test_files:\n",
    "      shutil.copy(os.path.join(root,file),destpath[2])\n"
   ]
  },
  {
   "cell_type": "code",
   "execution_count": null,
   "metadata": {
    "colab": {
     "base_uri": "https://localhost:8080/",
     "height": 35
    },
    "colab_type": "code",
    "id": "cXx92rbQF1K2",
    "outputId": "d024b4f6-df26-48c5-bf35-95dc54ad550e"
   },
   "outputs": [],
   "source": [
    "#see number of files\n",
    "path, dirs, files2 = os.walk(\"data/other\").__next__()\n",
    "path, dirs, files1 = os.walk(\"data/covid\").__next__()\n",
    "path, dirs, files3 = os.walk(\"data/test\").__next__()\n",
    "print(\"Number of images in Other: {}\".format(len(files2)),\"Number of images in Covid: {}\".format(len(files1)),\"Number of images in Test Set: {}\".format(len(files3)) )"
   ]
  },
  {
   "cell_type": "markdown",
   "metadata": {
    "colab_type": "text",
    "id": "eIwcpkbPT2_8"
   },
   "source": [
    "## Loading and Splitting Data\n",
    "We first declare the labels to be used (corresponding with the folder names). We then wrap it around a dataloader from fastai. \n",
    "\n",
    "We allocate 20% of the data for validation, and we reserve a test set from a folder called \"test\". We resize all images to 512 x 512 pixels. "
   ]
  },
  {
   "cell_type": "code",
   "execution_count": null,
   "metadata": {
    "colab": {},
    "colab_type": "code",
    "id": "c2v_TyrjQ5gO"
   },
   "outputs": [],
   "source": [
    "classes=['covid','other']"
   ]
  },
  {
   "cell_type": "code",
   "execution_count": null,
   "metadata": {
    "colab": {},
    "colab_type": "code",
    "id": "k5E51HCAQ6ph"
   },
   "outputs": [],
   "source": [
    "#include a test folder named test before running this block\n",
    "#function assumes test set is located in the path (first arg) by default\n",
    "data = ImageDataBunch.from_folder('data', train=\".\", valid_pct=0.25,test='test',\n",
    "        ds_tfms=get_transforms(), bs=8, size=512, num_workers=4).normalize(imagenet_stats)"
   ]
  },
  {
   "cell_type": "code",
   "execution_count": null,
   "metadata": {
    "colab": {
     "base_uri": "https://localhost:8080/",
     "height": 35
    },
    "colab_type": "code",
    "id": "lMlHkvmQWmb4",
    "outputId": "f4a52ff9-220b-4328-b9d0-e929706cb2fe"
   },
   "outputs": [],
   "source": [
    "data.classes"
   ]
  },
  {
   "cell_type": "code",
   "execution_count": null,
   "metadata": {
    "colab": {
     "base_uri": "https://localhost:8080/",
     "height": 35
    },
    "colab_type": "code",
    "id": "-FPm5_nyy60h",
    "outputId": "74cb7b30-f588-4247-9f90-324cfe22f825"
   },
   "outputs": [],
   "source": [
    "#show size of our datasets\n",
    "print(len(data.train_ds),len(data.valid_ds),len(data.test_ds.x))"
   ]
  },
  {
   "cell_type": "code",
   "execution_count": null,
   "metadata": {
    "colab": {
     "base_uri": "https://localhost:8080/",
     "height": 582
    },
    "colab_type": "code",
    "id": "oL6USZoeV9Ol",
    "outputId": "7959513d-4f1f-4ca4-9ff8-9da21ff3a46e"
   },
   "outputs": [],
   "source": [
    "#sample of our images with labels\n",
    "data.show_batch(rows=5, figsize=(7,8))"
   ]
  },
  {
   "cell_type": "markdown",
   "metadata": {
    "colab_type": "text",
    "id": "U0Jh0XPsevg3"
   },
   "source": [
    "#Training\n",
    "We use a Resnet 50 for transfer learning.\n",
    "Initially we run the fit one cycle policy for a few epochs and then using fastai's **lrfinder** to find an optimal range for our learning rate.\n",
    "\n",
    "We use precision and recall to measure the incidents of false positives and false negatives, as well as AUC to account for performance given the skewed data."
   ]
  },
  {
   "cell_type": "code",
   "execution_count": null,
   "metadata": {
    "colab": {},
    "colab_type": "code",
    "id": "676aAaiLglB6"
   },
   "outputs": [],
   "source": [
    "precision=Precision()\n",
    "recall=Recall()\n",
    "AUC=AUROC()"
   ]
  },
  {
   "cell_type": "code",
   "execution_count": null,
   "metadata": {
    "colab": {},
    "colab_type": "code",
    "id": "f-hB0emxWHIW"
   },
   "outputs": [],
   "source": [
    "learn = cnn_learner(data, models.resnet50, metrics=(accuracy,precision,recall,AUC))"
   ]
  },
  {
   "cell_type": "code",
   "execution_count": null,
   "metadata": {
    "colab": {
     "base_uri": "https://localhost:8080/",
     "height": 79
    },
    "colab_type": "code",
    "id": "EODxAuYMLUhz",
    "outputId": "4989cbbe-c903-43b4-c885-b25462553051"
   },
   "outputs": [],
   "source": [
    "learn.fit_one_cycle(1)"
   ]
  },
  {
   "cell_type": "markdown",
   "metadata": {
    "colab_type": "text",
    "id": "CfwTNbHuaOY8"
   },
   "source": [
    "At this stage, we realize the model is underfitting, so we continue to progressively increase the number of epochs from here on in an effort to reduce training loss while maintaining the low validation loss."
   ]
  },
  {
   "cell_type": "code",
   "execution_count": null,
   "metadata": {
    "colab": {
     "base_uri": "https://localhost:8080/",
     "height": 110
    },
    "colab_type": "code",
    "id": "21zSYXbiMMOX",
    "outputId": "5004a04e-19ee-4af4-b860-21490caf2861"
   },
   "outputs": [],
   "source": [
    "learn.fit_one_cycle(2)"
   ]
  },
  {
   "cell_type": "code",
   "execution_count": null,
   "metadata": {
    "colab": {
     "base_uri": "https://localhost:8080/",
     "height": 466
    },
    "colab_type": "code",
    "id": "usBXPEH4hEs0",
    "outputId": "8ea6ce5d-d043-448b-c60f-7a6a2753c4fa"
   },
   "outputs": [],
   "source": [
    "learn.lr_find()\n",
    "learn.recorder.plot()"
   ]
  },
  {
   "cell_type": "code",
   "execution_count": null,
   "metadata": {
    "cellView": "form",
    "colab": {},
    "colab_type": "code",
    "id": "CZY3yItbg2Gn"
   },
   "outputs": [],
   "source": [
    "#@title Defining custom checkpoints\n",
    "#Customizing where our checkpoints are saved and loaded\n",
    "#if not os.path.isdir('checkpoints'): \n",
    " # os.mkdir('checkpoints')\n",
    "os.mkdir('check')\n",
    "def custom_path_save(self, name:PathOrStr, path='check', return_path:bool=False, with_opt:bool=True):\n",
    "        \"Save model and optimizer state (if `with_opt`) with `name` to `self.model_dir`.\"\n",
    "        # delete #  path = self.path/self.model_dir/f'{name}.pth'\n",
    "        # my addition: start\n",
    "        if path=='': path = self.path/self.model_dir/f'{name}.pth'\n",
    "        else: path = f'{path}/{name}.pth'\n",
    "        # end\n",
    "        if not with_opt: state = get_model(self.model).state_dict()\n",
    "        else: state = {'model': get_model(self.model).state_dict(), 'opt':self.opt.state_dict()}\n",
    "        torch.save(state, path)\n",
    "        if return_path: return path\n",
    "\n",
    "def custom_path_load(self, name:PathOrStr, path='check', device:torch.device=None, strict:bool=True, with_opt:bool=None,purge=False):\n",
    "        \"Load model and optimizer state (if `with_opt`) `name` from `self.model_dir` using `device`.\"\n",
    "        if device is None: device = self.data.device\n",
    "        # delete # state = torch.load(self.path/self.model_dir/f'{name}.pth', map_location=device)\n",
    "        # my addition: start\n",
    "        if path=='': path = self.path/self.model_dir/f'{name}.pth'\n",
    "        else: path = f'{path}/{name}.pth'\n",
    "        state = torch.load(path, map_location=device) \n",
    "        # end\n",
    "        if set(state.keys()) == {'model', 'opt'}:\n",
    "            get_model(self.model).load_state_dict(state['model'], strict=strict)\n",
    "            if ifnone(with_opt,True):\n",
    "                if not hasattr(self, 'opt'): opt = self.create_opt(defaults.lr, self.wd)\n",
    "                try:    self.opt.load_state_dict(state['opt'])\n",
    "                except: pass\n",
    "        else:\n",
    "            if with_opt: warn(\"Saved filed doesn't contain an optimizer state.\")\n",
    "            get_model(self.model).load_state_dict(state, strict=strict)\n",
    "        return self\n",
    "\n",
    "learn.save = custom_path_save.__get__(learn)\n",
    "learn.load = custom_path_load.__get__(learn)\n",
    "model_path ='check'"
   ]
  },
  {
   "cell_type": "code",
   "execution_count": null,
   "metadata": {
    "colab": {},
    "colab_type": "code",
    "id": "HyPZ8xFIsStG"
   },
   "outputs": [],
   "source": [
    "learn.save('Corona_model_stage1')"
   ]
  },
  {
   "cell_type": "code",
   "execution_count": null,
   "metadata": {
    "colab": {},
    "colab_type": "code",
    "id": "KLlcXkQWspWt"
   },
   "outputs": [],
   "source": [
    "#learn.load('Corona_model_stage1')"
   ]
  },
  {
   "cell_type": "code",
   "execution_count": null,
   "metadata": {
    "colab": {},
    "colab_type": "code",
    "id": "qknwaf9au3qe"
   },
   "outputs": [],
   "source": [
    "learn.unfreeze()"
   ]
  },
  {
   "cell_type": "code",
   "execution_count": null,
   "metadata": {
    "colab": {
     "base_uri": "https://localhost:8080/",
     "height": 355
    },
    "colab_type": "code",
    "id": "wSgLIG_FtnLf",
    "outputId": "b2057faa-5dd0-4cb9-adab-55cb34bacc2a"
   },
   "outputs": [],
   "source": [
    "learn.fit_one_cycle(10, max_lr=slice(9e-07,1e-06))"
   ]
  },
  {
   "cell_type": "code",
   "execution_count": null,
   "metadata": {
    "colab": {},
    "colab_type": "code",
    "id": "ggsOKG5VQO3J"
   },
   "outputs": [],
   "source": [
    "learn.save('Corona_model_stage2')"
   ]
  },
  {
   "cell_type": "code",
   "execution_count": null,
   "metadata": {
    "colab": {
     "base_uri": "https://localhost:8080/",
     "height": 311
    },
    "colab_type": "code",
    "id": "LGW3jeYGuxlC",
    "outputId": "172b1aa9-ad52-4cd4-8753-e04f35451cd6"
   },
   "outputs": [],
   "source": [
    "#confusion matrix for the first 2 iterations\n",
    "interp = ClassificationInterpretation.from_learner(learn)\n",
    "interp.plot_confusion_matrix()"
   ]
  },
  {
   "cell_type": "code",
   "execution_count": null,
   "metadata": {
    "colab": {},
    "colab_type": "code",
    "id": "-eZlqAM5ysB7"
   },
   "outputs": [],
   "source": [
    "ClassConfusion(interp, classes, is_ordered=False, figsize=(8,8))"
   ]
  },
  {
   "cell_type": "code",
   "execution_count": null,
   "metadata": {
    "colab": {
     "base_uri": "https://localhost:8080/",
     "height": 466
    },
    "colab_type": "code",
    "id": "rt5xT11WQZXo",
    "outputId": "0ac84594-4184-453f-9954-679eae4c190f"
   },
   "outputs": [],
   "source": [
    "learn.lr_find()\n",
    "learn.recorder.plot()"
   ]
  },
  {
   "cell_type": "code",
   "execution_count": null,
   "metadata": {
    "colab": {
     "base_uri": "https://localhost:8080/",
     "height": 969
    },
    "colab_type": "code",
    "id": "XxJO74OsQdSm",
    "outputId": "9aec57ff-c761-4ff5-99b7-79fc466853b1"
   },
   "outputs": [],
   "source": [
    "learn.fit_one_cycle(30, max_lr=slice(6e-07,7e-06))"
   ]
  },
  {
   "cell_type": "code",
   "execution_count": null,
   "metadata": {
    "colab": {},
    "colab_type": "code",
    "id": "K9hfQWiQYNfE"
   },
   "outputs": [],
   "source": [
    "learn.save('Corona_model_stage3.pth')"
   ]
  },
  {
   "cell_type": "code",
   "execution_count": null,
   "metadata": {
    "colab": {
     "base_uri": "https://localhost:8080/",
     "height": 469
    },
    "colab_type": "code",
    "id": "8rnFypFAYYME",
    "outputId": "7269b8df-e6fc-4ef4-a7a4-cc78d7060f7e"
   },
   "outputs": [],
   "source": [
    "learn.lr_find()\n",
    "learn.recorder.plot()"
   ]
  },
  {
   "cell_type": "code",
   "execution_count": null,
   "metadata": {
    "colab": {
     "base_uri": "https://localhost:8080/",
     "height": 1000
    },
    "colab_type": "code",
    "id": "fcRZtawDYau4",
    "outputId": "4b799512-2c44-453b-9b88-5364969f20a9"
   },
   "outputs": [],
   "source": [
    "learn.fit_one_cycle(40, max_lr=slice(8e-06,1e-05))"
   ]
  },
  {
   "cell_type": "code",
   "execution_count": null,
   "metadata": {
    "colab": {},
    "colab_type": "code",
    "id": "KxREqJWPfV6A"
   },
   "outputs": [],
   "source": [
    "learn.save('Corona_model_stage4.pth')"
   ]
  },
  {
   "cell_type": "code",
   "execution_count": null,
   "metadata": {
    "colab": {
     "base_uri": "https://localhost:8080/",
     "height": 466
    },
    "colab_type": "code",
    "id": "ZJhH61YcfZ2O",
    "outputId": "cb0d819d-d5a8-4243-f3be-ec062c52c26b"
   },
   "outputs": [],
   "source": [
    "learn.lr_find()\n",
    "learn.recorder.plot()"
   ]
  },
  {
   "cell_type": "code",
   "execution_count": null,
   "metadata": {
    "colab": {
     "base_uri": "https://localhost:8080/",
     "height": 202
    },
    "colab_type": "code",
    "id": "5PWLp5u5feF4",
    "outputId": "2c5fe682-9e78-49f6-d3b8-82a83d85c837"
   },
   "outputs": [],
   "source": [
    "learn.fit_one_cycle(5, max_lr=2e-06)"
   ]
  },
  {
   "cell_type": "code",
   "execution_count": null,
   "metadata": {
    "colab": {},
    "colab_type": "code",
    "id": "8VYCH1GtlPus"
   },
   "outputs": [],
   "source": [
    "learn.save('Corona_model_stage5')"
   ]
  },
  {
   "cell_type": "markdown",
   "metadata": {
    "colab_type": "text",
    "id": "aMA2CnQZyPuT"
   },
   "source": [
    "# Results on Validation Set and Predictions on Test Set"
   ]
  },
  {
   "cell_type": "code",
   "execution_count": null,
   "metadata": {
    "colab": {
     "base_uri": "https://localhost:8080/",
     "height": 311
    },
    "colab_type": "code",
    "id": "oWN8UExfQjeB",
    "outputId": "9db80d2f-f754-4e92-9ae8-92633d1de58a"
   },
   "outputs": [],
   "source": [
    "interp = ClassificationInterpretation.from_learner(learn)\n",
    "interp.plot_confusion_matrix()"
   ]
  },
  {
   "cell_type": "code",
   "execution_count": null,
   "metadata": {
    "colab": {},
    "colab_type": "code",
    "id": "dNi_5tq3XRE1"
   },
   "outputs": [],
   "source": [
    "#preds, _ = learn.get_preds(ds_type = DatasetType.Test, ordered=True)\n",
    "preds, _ = learn.get_preds(ds_type = DatasetType.Test)"
   ]
  },
  {
   "cell_type": "code",
   "execution_count": null,
   "metadata": {
    "colab": {},
    "colab_type": "code",
    "id": "w6y4X9lguOgE"
   },
   "outputs": [],
   "source": [
    "df_test"
   ]
  },
  {
   "cell_type": "code",
   "execution_count": null,
   "metadata": {
    "colab": {},
    "colab_type": "code",
    "id": "P2znTCilq29M"
   },
   "outputs": [],
   "source": [
    "#WARNING: PREDICTIONS ARE NOT SORTED AND DO NOT MATCH THEIR ACTUAL CORRESPONDING IMAGES\n",
    "'''\n",
    "model_classes = learn.data.classes\n",
    "preds = preds.tolist()\n",
    "confidences = [{c: p for c,p*100 in zip(model_classes, probs)} for probs in preds]\n",
    "final_df = pd.DataFrame({'ID_code': df_test['filename'], 'target': confidences})\n",
    "final_df.to_csv('NCOV_test_results.csv', header=True, index=False)\n",
    "'''\n",
    "\n"
   ]
  },
  {
   "cell_type": "code",
   "execution_count": null,
   "metadata": {
    "colab": {},
    "colab_type": "code",
    "id": "xKe9TohirATh"
   },
   "outputs": [],
   "source": [
    "#safer to use a dictionary data structure\n",
    "#save predictions on test set in csv\n",
    "images={filename:open_image('data/test/'+filename) for filename in test_files}\n",
    "results={filename:learn.predict(images[filename]) for filename in test_files}\n",
    "final_df=pd.DataFrame.from_dict(results,orient='index')\n",
    "final_df.to_csv('NCOV_test_results.csv', header=True)\n"
   ]
  },
  {
   "cell_type": "code",
   "execution_count": null,
   "metadata": {},
   "outputs": [],
   "source": []
  },
  {
   "cell_type": "code",
   "execution_count": null,
   "metadata": {},
   "outputs": [],
   "source": []
  }
 ],
 "metadata": {
  "accelerator": "GPU",
  "colab": {
   "authorship_tag": "ABX9TyP5bVIHFYCIyYBvI2lOz9C4",
   "include_colab_link": true,
   "name": "NCOV19 X-ray Classifier.ipynb",
   "provenance": []
  },
  "kernelspec": {
   "display_name": "Python 3",
   "language": "python",
   "name": "python3"
  },
  "language_info": {
   "codemirror_mode": {
    "name": "ipython",
    "version": 3
   },
   "file_extension": ".py",
   "mimetype": "text/x-python",
   "name": "python",
   "nbconvert_exporter": "python",
   "pygments_lexer": "ipython3",
   "version": "3.6.8"
  }
 },
 "nbformat": 4,
 "nbformat_minor": 1
}
